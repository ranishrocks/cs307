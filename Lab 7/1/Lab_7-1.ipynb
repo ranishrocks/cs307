{
  "nbformat": 4,
  "nbformat_minor": 0,
  "metadata": {
    "colab": {
      "provenance": []
    },
    "kernelspec": {
      "name": "python3",
      "display_name": "Python 3"
    },
    "language_info": {
      "name": "python"
    }
  },
  "cells": [
    {
      "cell_type": "code",
      "source": [
        "import numpy as np\n",
        "import random\n",
        "import json"
      ],
      "metadata": {
        "id": "ArGg_-RlZJn-"
      },
      "execution_count": 1,
      "outputs": []
    },
    {
      "cell_type": "code",
      "source": [
        "def saveToJson(data):\n",
        "  with open('data.json', 'w') as outfile:\n",
        "    json.dump(data.__dict__, outfile)"
      ],
      "metadata": {
        "id": "F_XJS40VZLxi"
      },
      "execution_count": 2,
      "outputs": []
    },
    {
      "cell_type": "code",
      "source": [
        "class MenacePlayer:\n",
        "    def __init__(self):\n",
        "        self.matchboxes = {}\n",
        "        self.num_win = 0\n",
        "        self.num_draw = 0\n",
        "        self.num_lose = 0\n",
        "\n",
        "    def save(self):\n",
        "      saveToJson(self)"
      ],
      "metadata": {
        "id": "hwtR_7YXZPlM"
      },
      "execution_count": 3,
      "outputs": []
    },
    {
      "cell_type": "code",
      "source": [
        "def ValidMove(board,move):\n",
        "  if move >= 0 and move <=8 and board[move] == \" \":\n",
        "    return True\n",
        "  else :\n",
        "    return False"
      ],
      "metadata": {
        "id": "6Y2qd5TpZRUk"
      },
      "execution_count": 4,
      "outputs": []
    },
    {
      "cell_type": "code",
      "source": [
        "  def getEmptySpaces(currentState):\n",
        "    count=[]\n",
        "    for i in range(len(currentState)):\n",
        "      if currentState[i] == ' ':\n",
        "        count.append(i)\n",
        "    return np.array(count)\n"
      ],
      "metadata": {
        "id": "1zMyYcNpZTCT"
      },
      "execution_count": 5,
      "outputs": []
    },
    {
      "cell_type": "code",
      "source": [
        "def printBoard(board):\n",
        "        print(\"\\n 0 | 1 | 2     %s | %s | %s\\n\"\n",
        "               \"---+---+---   ---+---+---\\n\"\n",
        "               \" 3 | 4 | 5     %s | %s | %s\\n\"\n",
        "               \"---+---+---   ---+---+---\\n\"\n",
        "               \" 6 | 7 | 8     %s | %s | %s\" % (board[0], board[1], board[2],\n",
        "                                                board[3], board[4], board[5],\n",
        "                                                board[6], board[7], board[8]))"
      ],
      "metadata": {
        "id": "NNedJKMRZWxR"
      },
      "execution_count": 6,
      "outputs": []
    },
    {
      "cell_type": "code",
      "source": [
        "# Check if Player 1 wins return +10\n",
        "# Check if Player 2 wins return -10\n",
        "# Check if it is draw return 0\n",
        "# otherwise return -1\n",
        "\n",
        "def isGameOver(currentState):\n",
        "  state=currentState.copy()\n",
        "\n",
        "  # check for Horizontal win\n",
        "  for i in range(0,7,3) :\n",
        "    if (state[i] == state[i + 1] == state[i + 2]):\n",
        "      if (state[i]=='X'):\n",
        "        return 10\n",
        "      elif (state[i]=='O'):\n",
        "        return -10\n",
        "\n",
        "  # check vertical win\n",
        "  for i in range(0,3):\n",
        "    if (state[i] == state[i + 3] == state[i + 6]):\n",
        "      if (state[i]=='X'):\n",
        "        return 10\n",
        "      elif (state[i]=='O'):\n",
        "        return -10\n",
        "\n",
        "  #check diagonal win\n",
        "  if (state[0] == state[4] == state[8]) :\n",
        "    if (state[0]=='X'):\n",
        "        return 10\n",
        "    elif (state[0]=='O'):\n",
        "        return -10\n",
        "  if (state[2] == state[4] == state[6]):\n",
        "    if ( state[2]=='X'):\n",
        "        return 10\n",
        "    elif (state[2]=='O'):\n",
        "        return -10\n",
        "\n",
        "  # Check if it is a draw\n",
        "  if len(getEmptySpaces(state)) == 0:\n",
        "    return 0\n",
        "\n",
        "  return -1"
      ],
      "metadata": {
        "id": "ZqFI7VNTZbKj"
      },
      "execution_count": 7,
      "outputs": []
    },
    {
      "cell_type": "code",
      "source": [
        "def GetMove(board,player=None):\n",
        "  if player:\n",
        "    board=''.join(board)\n",
        "    if board not in player.matchboxes:\n",
        "      new_beads = [index for index, value in enumerate(board) if value == ' ']\n",
        "      player.matchboxes[board] = new_beads * ((len(new_beads) + 2) // 2)\n",
        "\n",
        "    beads = player.matchboxes[board]\n",
        "    if len(beads):\n",
        "      bead = random.choice(beads)\n",
        "      player.moves_played.append((board, bead))\n",
        "    else:\n",
        "      bead = -1\n",
        "    return bead\n",
        "  else :\n",
        "    while True:\n",
        "      move=int(input(\"Enter your move : \"))\n",
        "      if ValidMove(board,move):\n",
        "        return move\n",
        "      else:\n",
        "        print(\"Invalid Input\")"
      ],
      "metadata": {
        "id": "tdNBW6wQZdSN"
      },
      "execution_count": 8,
      "outputs": []
    },
    {
      "cell_type": "code",
      "source": [
        "def SetMenaceData(player,result):\n",
        "  if result == \"win\" :\n",
        "    for (board, bead) in player.moves_played:\n",
        "      player.matchboxes[board].extend([bead, bead, bead])\n",
        "    player.num_win += 1\n",
        "  elif result == \"lose\" :\n",
        "    for (board, bead) in player.moves_played:\n",
        "      matchbox = player.matchboxes[board]\n",
        "      del matchbox[matchbox.index(bead)]\n",
        "    player.num_lose += 1\n",
        "  elif result == \"draw\" :\n",
        "    for (board, bead) in player.moves_played:\n",
        "      player.matchboxes[board].append(bead)\n",
        "    player.num_draw += 1\n",
        "\n",
        "  player.save()"
      ],
      "metadata": {
        "id": "jimgQRZWZfAG"
      },
      "execution_count": 9,
      "outputs": []
    },
    {
      "cell_type": "code",
      "source": [
        "def TrainMenace(player1,player2):\n",
        "  for i in range(0,1000):\n",
        "    player1.moves_played=[]\n",
        "    player2.moves_played=[]\n",
        "    board=np.array([' ', ' ', ' ', ' ', ' ', ' ', ' ', ' ', ' '])\n",
        "    while isGameOver(board) == -1 :\n",
        "      move=GetMove(board,player1)\n",
        "      board[move]=\"O\"\n",
        "      move=GetMove(board,player2)\n",
        "      board[move]=\"X\"\n",
        "    points=isGameOver(board)\n",
        "    if points == 10:\n",
        "      SetMenaceData(firstPlayer,\"win\")\n",
        "    elif points == -10:\n",
        "      SetMenaceData(firstPlayer,\"lose\")\n",
        "    elif points == 0:\n",
        "      SetMenaceData(firstPlayer,\"draw\")"
      ],
      "metadata": {
        "id": "uL5eiC2RZgzN"
      },
      "execution_count": 10,
      "outputs": []
    },
    {
      "cell_type": "code",
      "source": [
        "firstPlayer=MenacePlayer()\n",
        "\n",
        "try :\n",
        "  f=open('data.json')\n",
        "  content=f.read()\n",
        "  if len(content) > 0:\n",
        "    savedData=json.load(open('data.json'))\n",
        "    firstPlayer.matchboxes=savedData[\"matchboxes\"]\n",
        "    firstPlayer.num_win=savedData[\"num_win\"]\n",
        "    firstPlayer.num_lose=savedData[\"num_lose\"]\n",
        "    firstPlayer.num_draw=savedData[\"num_draw\"]\n",
        "except:\n",
        "  # train data for 1000 values here\n",
        "  secondPlayer=MenacePlayer()\n",
        "  TrainMenace(firstPlayer,secondPlayer)\n",
        "  print(\"No Pre Game exist\")\n",
        "\n",
        "board=np.array([' ', ' ', ' ', ' ', ' ', ' ', ' ', ' ', ' '])\n",
        "printBoard(board)\n",
        "\n",
        "choice = input(\"Would you like to go first? (Y/N)\")\n",
        "firstPlayer.moves_played=[]\n",
        "if choice.lower() == 'y' or choice.lower()=='yes':\n",
        "  print(\"You are O\")\n",
        "  printBoard(board)\n",
        "  while isGameOver(board) == -1 :\n",
        "    move=GetMove(board)\n",
        "    board[move]=\"O\"\n",
        "    printBoard(board)\n",
        "    if isGameOver(board) != -1:\n",
        "      break\n",
        "    move=GetMove(board,firstPlayer)\n",
        "    board[move]=\"X\"\n",
        "    printBoard(board)\n",
        "    print(\"\\nMENACE moved : \",move)\n",
        "  # if you win -10 is returned\n",
        "  # if you lose 10 is returned\n",
        "  # if it is a draw 0 is returned\n",
        "  points=isGameOver(board)\n",
        "  if points == 10:\n",
        "    SetMenaceData(firstPlayer,\"win\")\n",
        "  elif points == -10:\n",
        "    SetMenaceData(firstPlayer,\"lose\")\n",
        "  elif points == 0:\n",
        "    SetMenaceData(firstPlayer,\"draw\")\n",
        "else :\n",
        "  print(\"You are X\")\n",
        "  printBoard(board)\n",
        "  while isGameOver(board) == -1 :\n",
        "    move=GetMove(board,firstPlayer)\n",
        "    board[move]=\"O\"\n",
        "    printBoard(board)\n",
        "    print(\"\\nMENACE moved : \",move)\n",
        "    if isGameOver(board) != -1:\n",
        "      break\n",
        "    move=GetMove(board)\n",
        "    board[move]=\"X\"\n",
        "    printBoard(board)\n",
        "\n",
        "  # if you win 10 is returned\n",
        "  # if you lose -10 is returned\n",
        "  # if it is a draw 0 is returned\n",
        "  points=isGameOver(board)\n",
        "  if points == -10:\n",
        "    SetMenaceData(firstPlayer,\"win\")\n",
        "  elif points == 10:\n",
        "    SetMenaceData(firstPlayer,\"lose\")\n",
        "  elif points == 0:\n",
        "    SetMenaceData(firstPlayer,\"draw\")\n"
      ],
      "metadata": {
        "colab": {
          "base_uri": "https://localhost:8080/"
        },
        "id": "AqK8zfs0Zium",
        "outputId": "349393d7-f783-4b0e-bc10-e70b8aef4de9"
      },
      "execution_count": 11,
      "outputs": [
        {
          "output_type": "stream",
          "name": "stdout",
          "text": [
            "No Pre Game exist\n",
            "\n",
            " 0 | 1 | 2       |   |  \n",
            "---+---+---   ---+---+---\n",
            " 3 | 4 | 5       |   |  \n",
            "---+---+---   ---+---+---\n",
            " 6 | 7 | 8       |   |  \n",
            "Would you like to go first? (Y/N)Y\n",
            "You are O\n",
            "\n",
            " 0 | 1 | 2       |   |  \n",
            "---+---+---   ---+---+---\n",
            " 3 | 4 | 5       |   |  \n",
            "---+---+---   ---+---+---\n",
            " 6 | 7 | 8       |   |  \n",
            "Enter your move : 0\n",
            "\n",
            " 0 | 1 | 2     O |   |  \n",
            "---+---+---   ---+---+---\n",
            " 3 | 4 | 5       |   |  \n",
            "---+---+---   ---+---+---\n",
            " 6 | 7 | 8       |   |  \n",
            "\n",
            " 0 | 1 | 2     O |   |  \n",
            "---+---+---   ---+---+---\n",
            " 3 | 4 | 5       | X |  \n",
            "---+---+---   ---+---+---\n",
            " 6 | 7 | 8       |   |  \n",
            "\n",
            "MENACE moved :  4\n",
            "Enter your move : 2\n",
            "\n",
            " 0 | 1 | 2     O |   | O\n",
            "---+---+---   ---+---+---\n",
            " 3 | 4 | 5       | X |  \n",
            "---+---+---   ---+---+---\n",
            " 6 | 7 | 8       |   |  \n",
            "\n",
            " 0 | 1 | 2     O |   | O\n",
            "---+---+---   ---+---+---\n",
            " 3 | 4 | 5       | X |  \n",
            "---+---+---   ---+---+---\n",
            " 6 | 7 | 8       |   | X\n",
            "\n",
            "MENACE moved :  8\n",
            "Enter your move : 6\n",
            "\n",
            " 0 | 1 | 2     O |   | O\n",
            "---+---+---   ---+---+---\n",
            " 3 | 4 | 5       | X |  \n",
            "---+---+---   ---+---+---\n",
            " 6 | 7 | 8     O |   | X\n",
            "\n",
            " 0 | 1 | 2     O |   | O\n",
            "---+---+---   ---+---+---\n",
            " 3 | 4 | 5       | X |  \n",
            "---+---+---   ---+---+---\n",
            " 6 | 7 | 8     O | X | X\n",
            "\n",
            "MENACE moved :  7\n",
            "Enter your move : 3\n",
            "\n",
            " 0 | 1 | 2     O |   | O\n",
            "---+---+---   ---+---+---\n",
            " 3 | 4 | 5     O | X |  \n",
            "---+---+---   ---+---+---\n",
            " 6 | 7 | 8     O | X | X\n"
          ]
        }
      ]
    }
  ]
}