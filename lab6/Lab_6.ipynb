{
  "nbformat": 4,
  "nbformat_minor": 0,
  "metadata": {
    "colab": {
      "provenance": []
    },
    "kernelspec": {
      "name": "python3",
      "display_name": "Python 3"
    },
    "language_info": {
      "name": "python"
    }
  },
  "cells": [
    {
      "cell_type": "code",
      "execution_count": null,
      "metadata": {
        "colab": {
          "base_uri": "https://localhost:8080/"
        },
        "id": "xQxrbiynoUkd",
        "outputId": "6833cd0d-8784-464c-e20f-950c5085ad46"
      },
      "outputs": [
        {
          "output_type": "stream",
          "name": "stdout",
          "text": [
            "Original pattern: [-1 -1  1  1  1 -1  1  1  1  1]\n",
            "Noisy input: [ 1  1 -1  1  1 -1  1  1  1  1]\n",
            "Recalled pattern: [-1 -1  1  1  1 -1  1  1  1  1]\n"
          ]
        }
      ],
      "source": [
        "import numpy as np\n",
        "from matplotlib import pyplot as plt\n",
        "%matplotlib inline\n",
        "\n",
        "# Hopfield Network Implementation\n",
        "class HopfieldNetwork:\n",
        "    def __init__(self, size):\n",
        "        self.size = size  # Number of nodes\n",
        "        self.weights = np.zeros((size, size))  # Weight matrix\n",
        "\n",
        "    def train(self, patterns):\n",
        "        for pattern in patterns:\n",
        "            pattern = np.reshape(pattern, (self.size, 1))  # Column vector\n",
        "            self.weights += np.dot(pattern, pattern.T)  # Hebbian rule\n",
        "        np.fill_diagonal(self.weights, 0)  # Zero out diagonal (no self-loops)\n",
        "\n",
        "    def recall(self, pattern, steps=10):\n",
        "        state = np.copy(pattern)\n",
        "        for _ in range(steps):\n",
        "            for i in range(self.size):\n",
        "                raw_input = np.dot(self.weights[i, :], state)\n",
        "                state[i] = 1 if raw_input > 0 else -1  # Binary threshold\n",
        "        return state\n",
        "\n",
        "\n",
        "# Test with a 10x10 binary associative memory\n",
        "patterns = [\n",
        "    np.random.choice([-1, 1], size=10),  # Random binary patterns\n",
        "    np.random.choice([-1, 1], size=10)\n",
        "]\n",
        "\n",
        "hopfield = HopfieldNetwork(size=10)\n",
        "hopfield.train(patterns)\n",
        "\n",
        "# Test recall with a noisy version of the first pattern\n",
        "noisy_input = np.copy(patterns[0])\n",
        "noisy_input[:3] *= -1  # Add noise to the first three bits\n",
        "recalled_pattern = hopfield.recall(noisy_input)\n",
        "\n",
        "print(\"Original pattern:\", patterns[0])\n",
        "print(\"Noisy input:\", noisy_input)\n",
        "print(\"Recalled pattern:\", recalled_pattern)"
      ]
    },
    {
      "cell_type": "code",
      "source": [
        "def calculate_capacity(network_size):\n",
        "    return int(0.15 * network_size)\n",
        "\n",
        "capacity = calculate_capacity(10)\n",
        "print(f\"Theoretical capacity for a 10-node Hopfield network: {capacity} patterns\")"
      ],
      "metadata": {
        "colab": {
          "base_uri": "https://localhost:8080/"
        },
        "id": "NWMs6nXSoZSL",
        "outputId": "2f7e001e-8264-4e40-80cd-6bd402618d90"
      },
      "execution_count": null,
      "outputs": [
        {
          "output_type": "stream",
          "name": "stdout",
          "text": [
            "Theoretical capacity for a 10-node Hopfield network: 1 patterns\n"
          ]
        }
      ]
    },
    {
      "cell_type": "code",
      "source": [
        "def test_error_correction(hopfield, pattern, max_noise_bits):\n",
        "    results = []\n",
        "    for noise_bits in range(max_noise_bits + 1):\n",
        "        noisy_pattern = np.copy(pattern)\n",
        "        flip_indices = np.random.choice(range(len(pattern)), size=noise_bits, replace=False)\n",
        "        noisy_pattern[flip_indices] *= -1  # Flip bits\n",
        "        recalled = hopfield.recall(noisy_pattern)\n",
        "        results.append((noise_bits, np.array_equal(recalled, pattern)))\n",
        "    return results\n",
        "\n",
        "error_correction_results = test_error_correction(hopfield, patterns[0], max_noise_bits=5)\n",
        "print(\"Error correction results (Noise bits, Success):\", error_correction_results)"
      ],
      "metadata": {
        "colab": {
          "base_uri": "https://localhost:8080/"
        },
        "id": "RpUXDlfYocVw",
        "outputId": "42110e9b-33df-4931-df2d-1b22dcddebf0"
      },
      "execution_count": null,
      "outputs": [
        {
          "output_type": "stream",
          "name": "stdout",
          "text": [
            "Error correction results (Noise bits, Success): [(0, True), (1, True), (2, True), (3, True), (4, False), (5, True)]\n"
          ]
        }
      ]
    },
    {
      "cell_type": "code",
      "source": [
        "def eight_rook_energy(state):\n",
        "    # Convert state into a matrix form (8x8)\n",
        "    state_matrix = np.reshape(state, (8, 8))\n",
        "    row_conflicts = np.sum(np.sum(state_matrix, axis=1) - 1)**2\n",
        "    col_conflicts = np.sum(np.sum(state_matrix, axis=0) - 1)**2\n",
        "    return row_conflicts + col_conflicts\n",
        "\n",
        "# Example: Random initial state\n",
        "state = np.random.choice([0, 1], size=64).reshape((8, 8))\n",
        "energy = eight_rook_energy(state)\n",
        "print(\"Energy of current state:\", energy)"
      ],
      "metadata": {
        "colab": {
          "base_uri": "https://localhost:8080/"
        },
        "id": "I5P5deJGoiLd",
        "outputId": "aec4a242-2700-42e8-9a07-488263398e08"
      },
      "execution_count": null,
      "outputs": [
        {
          "output_type": "stream",
          "name": "stdout",
          "text": [
            "Energy of current state: 1250\n"
          ]
        }
      ]
    },
    {
      "cell_type": "code",
      "source": [
        "import numpy as np\n",
        "from skimage import data, io, filters\n",
        "from matplotlib import pyplot as plt\n",
        "from PIL import Image\n",
        "from skimage.transform import resize\n",
        "import random\n",
        "%matplotlib inline\n",
        "\n",
        "N = 10\n",
        "\n",
        "city_x = np.random.rand((10))\n",
        "city_y = np.random.rand((10))\n",
        "\n",
        "print('The co-ordinates of the 10 cities are:')\n",
        "for city in zip(city_x, city_y):\n",
        "    print(city)"
      ],
      "metadata": {
        "colab": {
          "base_uri": "https://localhost:8080/"
        },
        "id": "A9uGsj5Vo-4c",
        "outputId": "e6b5e069-92e2-493f-fae0-308d1f38ee83"
      },
      "execution_count": null,
      "outputs": [
        {
          "output_type": "stream",
          "name": "stdout",
          "text": [
            "The co-ordinates of the 10 cities are:\n",
            "(0.7075458631578553, 0.37475960820973564)\n",
            "(0.5801640299491909, 0.6936431731934232)\n",
            "(0.3755966310010955, 0.10683160261482127)\n",
            "(0.8149289071337508, 0.6370075580559238)\n",
            "(0.43281356507574853, 0.4196415789152166)\n",
            "(0.9814941684109951, 0.4493843598603434)\n",
            "(0.09362576917705168, 0.34643010212025127)\n",
            "(0.3958658426085323, 0.6583169607758035)\n",
            "(0.5596519888273597, 0.27069977094602427)\n",
            "(0.8211700504185981, 0.28962423562380823)\n"
          ]
        }
      ]
    },
    {
      "cell_type": "code",
      "source": [
        "plt.plot(city_x, city_y, 'o')\n",
        "plt.title('Map of cities')"
      ],
      "metadata": {
        "colab": {
          "base_uri": "https://localhost:8080/",
          "height": 469
        },
        "id": "M5fuSnxMpDdk",
        "outputId": "acc5f26f-30ce-4d21-9620-175131c18e3b"
      },
      "execution_count": null,
      "outputs": [
        {
          "output_type": "execute_result",
          "data": {
            "text/plain": [
              "Text(0.5, 1.0, 'Map of cities')"
            ]
          },
          "metadata": {},
          "execution_count": 12
        },
        {
          "output_type": "display_data",
          "data": {
            "text/plain": [
              "<Figure size 640x480 with 1 Axes>"
            ],
            "image/png": "[encoded data removed]"
          },
          "metadata": {}
        }
      ]
    },
    {
      "cell_type": "code",
      "source": [
        "d = np.zeros((N,N))\n",
        "for i in range(N):\n",
        "    for j in range(N):\n",
        "        d[i, j] = np.sqrt((city_x[i] - city_x[j])**2 + (city_y[i] - city_y[j])**2)\n",
        "\n",
        "print(d);"
      ],
      "metadata": {
        "colab": {
          "base_uri": "https://localhost:8080/"
        },
        "id": "F_PXG3qcpIBU",
        "outputId": "23295a78-4953-4ecb-c99b-dcbb19597c09"
      },
      "execution_count": null,
      "outputs": [
        {
          "output_type": "stream",
          "name": "stdout",
          "text": [
            "[[0.         0.34338442 0.42658611 0.28338155 0.27837426 0.2839305\n",
            "  0.61457338 0.42136588 0.18083431 0.14198059]\n",
            " [0.34338442 0.         0.62144641 0.24149977 0.31110936 0.46981725\n",
            "  0.59772602 0.18765331 0.42344051 0.4704415 ]\n",
            " [0.42658611 0.62144641 0.         0.68854876 0.31799978 0.69602745\n",
            "  0.37002028 0.55185772 0.24643285 0.48161065]\n",
            " [0.28338155 0.24149977 0.68854876 0.         0.43961358 0.25089131\n",
            "  0.77763325 0.41960451 0.44648371 0.34743938]\n",
            " [0.27837426 0.31110936 0.31799978 0.43961358 0.         0.54948616\n",
            "  0.34699896 0.24151826 0.19563141 0.40954276]\n",
            " [0.2839305  0.46981725 0.69602745 0.25089131 0.54948616 0.\n",
            "  0.89381758 0.62178241 0.45812554 0.22633409]\n",
            " [0.61457338 0.59772602 0.37002028 0.77763325 0.34699896 0.89381758\n",
            "  0.         0.43430689 0.4721393  0.72975858]\n",
            " [0.42136588 0.18765331 0.55185772 0.41960451 0.24151826 0.62178241\n",
            "  0.43430689 0.         0.42080041 0.56286588]\n",
            " [0.18083431 0.42344051 0.24643285 0.44648371 0.19563141 0.45812554\n",
            "  0.4721393  0.42080041 0.         0.26220189]\n",
            " [0.14198059 0.4704415  0.48161065 0.34743938 0.40954276 0.22633409\n",
            "  0.72975858 0.56286588 0.26220189 0.        ]]\n"
          ]
        }
      ]
    },
    {
      "cell_type": "code",
      "source": [
        "A = 500\n",
        "B = 500\n",
        "C = 1000\n",
        "D = 500\n",
        "alpha = 0.0001\n",
        "\n",
        "\n",
        "def hopfield():\n",
        "    u0 = 0.02\n",
        "    toend = 0\n",
        "    udao = np.zeros((N, N))\n",
        "    ctr = 0\n",
        "    while toend == 0:\n",
        "        ctr += 1\n",
        "        v = np.random.rand(N,N)\n",
        "        u = np.ones([N, N])*(-u0*np.log(N-1)/2)\n",
        "        u += u*0.91\n",
        "        for _ in range(1000):\n",
        "            for vx in range(N):\n",
        "                for vi in range(N):\n",
        "                    j1, j2, j3, j4 = 0, 0, 0, 0\n",
        "                    for j in range(N):\n",
        "                        if j != vi:\n",
        "                            j1 += v[vx, j]\n",
        "                    j1 *= -A\n",
        "\n",
        "                    for y in range(N):\n",
        "                        if y != vx:\n",
        "                            j2 += v[y, vi]\n",
        "                    j2 *= -B\n",
        "\n",
        "                    j3 = np.sum(v)\n",
        "                    j3 = -C*(j3-N)\n",
        "\n",
        "                    for y in range(N):\n",
        "                        if y != vx:\n",
        "                            if vi == 0:\n",
        "                                j4 += d[vx, y]*(v[y, vi+1]+v[y, N-1])\n",
        "                            elif vi == N-1:\n",
        "                                j4 += d[vx, y]*(v[y, vi-1]+v[y, 0])\n",
        "                            else:\n",
        "                                j4 += d[vx, y]*(v[y, vi+1]+v[y, vi-1])\n",
        "                    j4 *= -D\n",
        "                    udao[vx, vi] = -u[vx, vi]+j1+j2+j3+j4\n",
        "\n",
        "\n",
        "            u = u + alpha*udao\n",
        "\n",
        "            v = (1+np.tanh(u/u0)) / 2\n",
        "\n",
        "            for vx in range(N):\n",
        "                for vi in range(N):\n",
        "                    if(v[vx, vi] < 0.7):\n",
        "                        v[vx, vi] = 0\n",
        "                    if(v[vx, vi] >= 0.7):\n",
        "                        v[vx, vi]=1\n",
        "\n",
        "\n",
        "        t1, t2, t3 = 0, 0, 0\n",
        "\n",
        "\n",
        "        t1=0\n",
        "        for vx in range(N):\n",
        "            for vi in range(N):\n",
        "                t1+=v[vx, vi]\n",
        "\n",
        "\n",
        "        t2=0\n",
        "        for x in range(N):\n",
        "            for i in range(N-1):\n",
        "                for j in range(i+1, N):\n",
        "                    t2+=np.multiply(v[x, i], v[x, j])\n",
        "\n",
        "\n",
        "        t3=0\n",
        "        for i in range(N):\n",
        "            for x in range(N-1):\n",
        "                for y in range(x+1, N):\n",
        "                    t3+=np.multiply(v[x, i], v[y, i])\n",
        "\n",
        "        # stop the loop after getting the valid solution\n",
        "        if t1 == N and t2 == 0 and t3 == 0:\n",
        "            toend = 1\n",
        "        else:\n",
        "            toend = 0\n",
        "    # returns the resulting matrix v and the number of iterations ctr that were required to obtain a valid solution.\n",
        "    return(v, ctr)"
      ],
      "metadata": {
        "id": "DFls_hTcpL8B"
      },
      "execution_count": null,
      "outputs": []
    },
    {
      "cell_type": "code",
      "source": [
        "def total_distance(v):\n",
        "    city_x_final = np.zeros((N+1))\n",
        "    city_y_final = np.zeros((N+1))\n",
        "\n",
        "    for j in range(N):\n",
        "        for i in range(N):\n",
        "            if v[i,j] == 1:\n",
        "                city_x_final[j] = city_x[i]\n",
        "                city_y_final[j] = city_y[i]\n",
        "\n",
        "    city_x_final[N] = city_x_final[0]\n",
        "    city_y_final[N] = city_y_final[0]\n",
        "\n",
        "    # calculate the total distance\n",
        "    td = 0\n",
        "    for i in range(N-1):\n",
        "        td += np.sqrt((city_x_final[i] - city_x_final[i+1])**2\n",
        "                    + (city_y_final[i] - city_y_final[i+1])**2)\n",
        "    td += np.sqrt((city_x_final[N-1] - city_x_final[0])**2\n",
        "                + (city_y_final[N-1] - city_y_final[0])**2)\n",
        "\n",
        "    return(td, city_x_final, city_y_final)"
      ],
      "metadata": {
        "id": "sp_rFlrSpPAT"
      },
      "execution_count": null,
      "outputs": []
    },
    {
      "cell_type": "code",
      "source": [
        "#It initializes a v matrix with zeros\n",
        "import numpy as np\n",
        "v = np.zeros([N,N])\n",
        "\n",
        "ct = 0\n",
        "\n",
        "min_dist = 20\n",
        "best_path = None\n",
        "\n",
        "# runs the hopfield() function 20 times and\n",
        "# at each iteration, checks if the resulting path has a lower total distance than the current minimum distance.\n",
        "# If the total distance is less than the previous minimum distance,\n",
        "# it updates the minimum distance and stores the binary matrix as the best path\n",
        "\n",
        "for i in range(20):\n",
        "    v, steps = hopfield()\n",
        "    print(v)\n",
        "    td, _, _ = total_distance(v)\n",
        "    print(f\"Epoch {i}: Ran for {steps} steps, total distance {td}\")\n",
        "    if td < min_dist:\n",
        "        min_dist = td\n",
        "        best_path = v\n",
        "print(min_dist)\n",
        "print(best_path)\n",
        "# At the end of the loop, it prints the final minimum distance and the best path found.\n"
      ],
      "metadata": {
        "colab": {
          "base_uri": "https://localhost:8080/"
        },
        "id": "oVZ-gAqNtiuX",
        "outputId": "2c484659-2e9c-41b5-d184-e542e9aea47a"
      },
      "execution_count": null,
      "outputs": [
        {
          "output_type": "stream",
          "name": "stdout",
          "text": [
            "[[0. 0. 0. 1. 0. 0. 0. 0. 0. 0.]\n",
            " [0. 0. 0. 0. 0. 0. 0. 0. 0. 1.]\n",
            " [0. 0. 0. 0. 0. 0. 1. 0. 0. 0.]\n",
            " [1. 0. 0. 0. 0. 0. 0. 0. 0. 0.]\n",
            " [0. 0. 0. 0. 0. 1. 0. 0. 0. 0.]\n",
            " [0. 0. 1. 0. 0. 0. 0. 0. 0. 0.]\n",
            " [0. 0. 0. 0. 0. 0. 0. 1. 0. 0.]\n",
            " [0. 0. 0. 0. 0. 0. 0. 0. 1. 0.]\n",
            " [0. 0. 0. 0. 1. 0. 0. 0. 0. 0.]\n",
            " [0. 1. 0. 0. 0. 0. 0. 0. 0. 0.]]\n",
            "Epoch 0: Ran for 3 steps, total distance 2.785649715619179\n",
            "[[0. 0. 0. 0. 1. 0. 0. 0. 0. 0.]\n",
            " [0. 0. 0. 0. 0. 1. 0. 0. 0. 0.]\n",
            " [0. 0. 0. 0. 0. 0. 0. 0. 0. 1.]\n",
            " [0. 0. 1. 0. 0. 0. 0. 0. 0. 0.]\n",
            " [0. 0. 0. 0. 0. 0. 0. 0. 1. 0.]\n",
            " [0. 1. 0. 0. 0. 0. 0. 0. 0. 0.]\n",
            " [0. 0. 0. 0. 0. 0. 0. 1. 0. 0.]\n",
            " [0. 0. 0. 0. 0. 0. 1. 0. 0. 0.]\n",
            " [1. 0. 0. 0. 0. 0. 0. 0. 0. 0.]\n",
            " [0. 0. 0. 1. 0. 0. 0. 0. 0. 0.]]\n",
            "Epoch 1: Ran for 1 steps, total distance 3.075213030938107\n",
            "[[0. 0. 0. 0. 0. 0. 1. 0. 0. 0.]\n",
            " [1. 0. 0. 0. 0. 0. 0. 0. 0. 0.]\n",
            " [0. 0. 0. 1. 0. 0. 0. 0. 0. 0.]\n",
            " [0. 0. 0. 0. 0. 0. 0. 0. 0. 1.]\n",
            " [0. 0. 0. 0. 1. 0. 0. 0. 0. 0.]\n",
            " [0. 0. 0. 0. 0. 0. 0. 0. 1. 0.]\n",
            " [0. 0. 1. 0. 0. 0. 0. 0. 0. 0.]\n",
            " [0. 1. 0. 0. 0. 0. 0. 0. 0. 0.]\n",
            " [0. 0. 0. 0. 0. 1. 0. 0. 0. 0.]\n",
            " [0. 0. 0. 0. 0. 0. 0. 1. 0. 0.]]\n",
            "Epoch 2: Ran for 5 steps, total distance 2.547151736810208\n",
            "[[0. 0. 0. 0. 0. 0. 0. 0. 0. 1.]\n",
            " [0. 1. 0. 0. 0. 0. 0. 0. 0. 0.]\n",
            " [0. 0. 0. 0. 0. 1. 0. 0. 0. 0.]\n",
            " [1. 0. 0. 0. 0. 0. 0. 0. 0. 0.]\n",
            " [0. 0. 0. 0. 1. 0. 0. 0. 0. 0.]\n",
            " [0. 0. 0. 0. 0. 0. 0. 0. 1. 0.]\n",
            " [0. 0. 0. 1. 0. 0. 0. 0. 0. 0.]\n",
            " [0. 0. 1. 0. 0. 0. 0. 0. 0. 0.]\n",
            " [0. 0. 0. 0. 0. 0. 1. 0. 0. 0.]\n",
            " [0. 0. 0. 0. 0. 0. 0. 1. 0. 0.]]\n",
            "Epoch 3: Ran for 3 steps, total distance 2.830739597774399\n",
            "[[0. 0. 0. 0. 0. 0. 0. 0. 0. 1.]\n",
            " [0. 0. 0. 0. 0. 0. 1. 0. 0. 0.]\n",
            " [0. 0. 0. 1. 0. 0. 0. 0. 0. 0.]\n",
            " [0. 0. 0. 0. 0. 0. 0. 1. 0. 0.]\n",
            " [0. 0. 1. 0. 0. 0. 0. 0. 0. 0.]\n",
            " [0. 1. 0. 0. 0. 0. 0. 0. 0. 0.]\n",
            " [0. 0. 0. 0. 1. 0. 0. 0. 0. 0.]\n",
            " [0. 0. 0. 0. 0. 1. 0. 0. 0. 0.]\n",
            " [0. 0. 0. 0. 0. 0. 0. 0. 1. 0.]\n",
            " [1. 0. 0. 0. 0. 0. 0. 0. 0. 0.]]\n",
            "Epoch 4: Ran for 2 steps, total distance 3.096598879796408\n",
            "[[0. 0. 0. 0. 0. 0. 0. 0. 0. 1.]\n",
            " [0. 1. 0. 0. 0. 0. 0. 0. 0. 0.]\n",
            " [0. 0. 0. 0. 0. 1. 0. 0. 0. 0.]\n",
            " [1. 0. 0. 0. 0. 0. 0. 0. 0. 0.]\n",
            " [0. 0. 0. 0. 1. 0. 0. 0. 0. 0.]\n",
            " [0. 0. 0. 0. 0. 0. 0. 0. 1. 0.]\n",
            " [0. 0. 0. 1. 0. 0. 0. 0. 0. 0.]\n",
            " [0. 0. 1. 0. 0. 0. 0. 0. 0. 0.]\n",
            " [0. 0. 0. 0. 0. 0. 1. 0. 0. 0.]\n",
            " [0. 0. 0. 0. 0. 0. 0. 1. 0. 0.]]\n",
            "Epoch 5: Ran for 2 steps, total distance 2.830739597774399\n",
            "[[0. 0. 0. 0. 0. 0. 1. 0. 0. 0.]\n",
            " [0. 0. 1. 0. 0. 0. 0. 0. 0. 0.]\n",
            " [0. 0. 0. 0. 0. 0. 0. 1. 0. 0.]\n",
            " [0. 1. 0. 0. 0. 0. 0. 0. 0. 0.]\n",
            " [0. 0. 0. 0. 0. 1. 0. 0. 0. 0.]\n",
            " [0. 0. 0. 0. 0. 0. 0. 0. 1. 0.]\n",
            " [0. 0. 0. 1. 0. 0. 0. 0. 0. 0.]\n",
            " [0. 0. 0. 0. 1. 0. 0. 0. 0. 0.]\n",
            " [1. 0. 0. 0. 0. 0. 0. 0. 0. 0.]\n",
            " [0. 0. 0. 0. 0. 0. 0. 0. 0. 1.]]\n",
            "Epoch 6: Ran for 1 steps, total distance 3.8510584566335866\n",
            "[[0. 0. 0. 0. 0. 0. 0. 1. 0. 0.]\n",
            " [1. 0. 0. 0. 0. 0. 0. 0. 0. 0.]\n",
            " [0. 0. 0. 0. 1. 0. 0. 0. 0. 0.]\n",
            " [0. 0. 0. 0. 0. 0. 0. 0. 0. 1.]\n",
            " [0. 0. 1. 0. 0. 0. 0. 0. 0. 0.]\n",
            " [0. 0. 0. 0. 0. 0. 0. 0. 1. 0.]\n",
            " [0. 0. 0. 1. 0. 0. 0. 0. 0. 0.]\n",
            " [0. 1. 0. 0. 0. 0. 0. 0. 0. 0.]\n",
            " [0. 0. 0. 0. 0. 1. 0. 0. 0. 0.]\n",
            " [0. 0. 0. 0. 0. 0. 1. 0. 0. 0.]]\n",
            "Epoch 7: Ran for 6 steps, total distance 2.573127732333579\n",
            "[[0. 0. 0. 0. 0. 0. 0. 0. 1. 0.]\n",
            " [0. 0. 0. 0. 0. 0. 0. 1. 0. 0.]\n",
            " [0. 0. 0. 0. 0. 1. 0. 0. 0. 0.]\n",
            " [1. 0. 0. 0. 0. 0. 0. 0. 0. 0.]\n",
            " [0. 0. 0. 1. 0. 0. 0. 0. 0. 0.]\n",
            " [0. 0. 0. 0. 0. 0. 0. 0. 0. 1.]\n",
            " [0. 0. 0. 0. 1. 0. 0. 0. 0. 0.]\n",
            " [0. 0. 0. 0. 0. 0. 1. 0. 0. 0.]\n",
            " [0. 0. 1. 0. 0. 0. 0. 0. 0. 0.]\n",
            " [0. 1. 0. 0. 0. 0. 0. 0. 0. 0.]]\n",
            "Epoch 8: Ran for 1 steps, total distance 3.1400091806466572\n",
            "[[0. 0. 0. 0. 0. 1. 0. 0. 0. 0.]\n",
            " [0. 0. 1. 0. 0. 0. 0. 0. 0. 0.]\n",
            " [0. 0. 0. 0. 0. 0. 0. 1. 0. 0.]\n",
            " [0. 0. 0. 1. 0. 0. 0. 0. 0. 0.]\n",
            " [0. 0. 0. 0. 0. 0. 0. 0. 0. 1.]\n",
            " [0. 0. 0. 0. 1. 0. 0. 0. 0. 0.]\n",
            " [0. 0. 0. 0. 0. 0. 0. 0. 1. 0.]\n",
            " [0. 1. 0. 0. 0. 0. 0. 0. 0. 0.]\n",
            " [1. 0. 0. 0. 0. 0. 0. 0. 0. 0.]\n",
            " [0. 0. 0. 0. 0. 0. 1. 0. 0. 0.]]\n",
            "Epoch 9: Ran for 1 steps, total distance 2.9210171945321934\n",
            "[[0. 0. 0. 0. 0. 0. 0. 0. 0. 1.]\n",
            " [0. 0. 0. 0. 0. 0. 0. 1. 0. 0.]\n",
            " [0. 0. 0. 0. 1. 0. 0. 0. 0. 0.]\n",
            " [0. 0. 0. 0. 0. 0. 0. 0. 1. 0.]\n",
            " [0. 0. 1. 0. 0. 0. 0. 0. 0. 0.]\n",
            " [1. 0. 0. 0. 0. 0. 0. 0. 0. 0.]\n",
            " [0. 0. 0. 0. 0. 1. 0. 0. 0. 0.]\n",
            " [0. 0. 0. 0. 0. 0. 1. 0. 0. 0.]\n",
            " [0. 0. 0. 1. 0. 0. 0. 0. 0. 0.]\n",
            " [0. 1. 0. 0. 0. 0. 0. 0. 0. 0.]]\n",
            "Epoch 10: Ran for 1 steps, total distance 2.878733408940927\n",
            "[[0. 0. 0. 0. 0. 0. 1. 0. 0. 0.]\n",
            " [0. 0. 1. 0. 0. 0. 0. 0. 0. 0.]\n",
            " [0. 0. 0. 0. 0. 0. 0. 0. 0. 1.]\n",
            " [0. 0. 0. 0. 0. 1. 0. 0. 0. 0.]\n",
            " [0. 0. 0. 1. 0. 0. 0. 0. 0. 0.]\n",
            " [0. 0. 0. 0. 0. 0. 0. 1. 0. 0.]\n",
            " [1. 0. 0. 0. 0. 0. 0. 0. 0. 0.]\n",
            " [0. 1. 0. 0. 0. 0. 0. 0. 0. 0.]\n",
            " [0. 0. 0. 0. 0. 0. 0. 0. 1. 0.]\n",
            " [0. 0. 0. 0. 1. 0. 0. 0. 0. 0.]]\n",
            "Epoch 11: Ran for 1 steps, total distance 3.3319424153824797\n",
            "[[0. 0. 1. 0. 0. 0. 0. 0. 0. 0.]\n",
            " [0. 1. 0. 0. 0. 0. 0. 0. 0. 0.]\n",
            " [0. 0. 0. 0. 0. 0. 0. 1. 0. 0.]\n",
            " [0. 0. 0. 1. 0. 0. 0. 0. 0. 0.]\n",
            " [0. 0. 0. 0. 0. 0. 0. 0. 0. 1.]\n",
            " [0. 0. 0. 0. 1. 0. 0. 0. 0. 0.]\n",
            " [0. 0. 0. 0. 0. 0. 0. 0. 1. 0.]\n",
            " [1. 0. 0. 0. 0. 0. 0. 0. 0. 0.]\n",
            " [0. 0. 0. 0. 0. 0. 1. 0. 0. 0.]\n",
            " [0. 0. 0. 0. 0. 1. 0. 0. 0. 0.]]\n",
            "Epoch 12: Ran for 2 steps, total distance 2.7588169358965144\n",
            "[[0. 0. 0. 0. 0. 0. 1. 0. 0. 0.]\n",
            " [0. 0. 0. 0. 0. 0. 0. 0. 0. 1.]\n",
            " [0. 0. 1. 0. 0. 0. 0. 0. 0. 0.]\n",
            " [0. 0. 0. 0. 0. 0. 0. 0. 1. 0.]\n",
            " [0. 0. 0. 0. 0. 1. 0. 0. 0. 0.]\n",
            " [1. 0. 0. 0. 0. 0. 0. 0. 0. 0.]\n",
            " [0. 0. 0. 1. 0. 0. 0. 0. 0. 0.]\n",
            " [0. 0. 0. 0. 1. 0. 0. 0. 0. 0.]\n",
            " [0. 1. 0. 0. 0. 0. 0. 0. 0. 0.]\n",
            " [0. 0. 0. 0. 0. 0. 0. 1. 0. 0.]]\n",
            "Epoch 13: Ran for 1 steps, total distance 3.229515075437475\n",
            "[[0. 0. 0. 0. 0. 0. 0. 0. 0. 1.]\n",
            " [0. 0. 0. 1. 0. 0. 0. 0. 0. 0.]\n",
            " [0. 0. 0. 0. 0. 0. 0. 1. 0. 0.]\n",
            " [0. 0. 1. 0. 0. 0. 0. 0. 0. 0.]\n",
            " [0. 0. 0. 0. 0. 1. 0. 0. 0. 0.]\n",
            " [0. 1. 0. 0. 0. 0. 0. 0. 0. 0.]\n",
            " [0. 0. 0. 0. 0. 0. 1. 0. 0. 0.]\n",
            " [0. 0. 0. 0. 1. 0. 0. 0. 0. 0.]\n",
            " [0. 0. 0. 0. 0. 0. 0. 0. 1. 0.]\n",
            " [1. 0. 0. 0. 0. 0. 0. 0. 0. 0.]]\n",
            "Epoch 14: Ran for 1 steps, total distance 2.4341637430863297\n",
            "[[0. 0. 0. 0. 0. 0. 0. 1. 0. 0.]\n",
            " [0. 0. 0. 0. 0. 1. 0. 0. 0. 0.]\n",
            " [0. 0. 1. 0. 0. 0. 0. 0. 0. 0.]\n",
            " [0. 0. 0. 0. 0. 0. 1. 0. 0. 0.]\n",
            " [0. 1. 0. 0. 0. 0. 0. 0. 0. 0.]\n",
            " [1. 0. 0. 0. 0. 0. 0. 0. 0. 0.]\n",
            " [0. 0. 0. 1. 0. 0. 0. 0. 0. 0.]\n",
            " [0. 0. 0. 0. 1. 0. 0. 0. 0. 0.]\n",
            " [0. 0. 0. 0. 0. 0. 0. 0. 1. 0.]\n",
            " [0. 0. 0. 0. 0. 0. 0. 0. 0. 1.]]\n",
            "Epoch 15: Ran for 3 steps, total distance 3.0537180305965825\n",
            "[[0. 0. 0. 0. 0. 0. 1. 0. 0. 0.]\n",
            " [0. 0. 1. 0. 0. 0. 0. 0. 0. 0.]\n",
            " [0. 0. 0. 0. 0. 0. 0. 0. 1. 0.]\n",
            " [0. 0. 0. 1. 0. 0. 0. 0. 0. 0.]\n",
            " [0. 1. 0. 0. 0. 0. 0. 0. 0. 0.]\n",
            " [0. 0. 0. 0. 0. 1. 0. 0. 0. 0.]\n",
            " [0. 0. 0. 0. 0. 0. 0. 0. 0. 1.]\n",
            " [1. 0. 0. 0. 0. 0. 0. 0. 0. 0.]\n",
            " [0. 0. 0. 0. 0. 0. 0. 1. 0. 0.]\n",
            " [0. 0. 0. 0. 1. 0. 0. 0. 0. 0.]]\n",
            "Epoch 16: Ran for 1 steps, total distance 2.883425700623185\n",
            "[[0. 0. 0. 0. 0. 0. 1. 0. 0. 0.]\n",
            " [0. 1. 0. 0. 0. 0. 0. 0. 0. 0.]\n",
            " [0. 0. 0. 0. 0. 0. 0. 0. 0. 1.]\n",
            " [0. 0. 0. 1. 0. 0. 0. 0. 0. 0.]\n",
            " [0. 0. 0. 0. 0. 0. 0. 0. 1. 0.]\n",
            " [0. 0. 0. 0. 1. 0. 0. 0. 0. 0.]\n",
            " [1. 0. 0. 0. 0. 0. 0. 0. 0. 0.]\n",
            " [0. 0. 1. 0. 0. 0. 0. 0. 0. 0.]\n",
            " [0. 0. 0. 0. 0. 0. 0. 1. 0. 0.]\n",
            " [0. 0. 0. 0. 0. 1. 0. 0. 0. 0.]]\n",
            "Epoch 17: Ran for 2 steps, total distance 2.8886756019832953\n",
            "[[0. 0. 0. 0. 1. 0. 0. 0. 0. 0.]\n",
            " [0. 0. 0. 0. 0. 0. 1. 0. 0. 0.]\n",
            " [1. 0. 0. 0. 0. 0. 0. 0. 0. 0.]\n",
            " [0. 0. 0. 0. 0. 1. 0. 0. 0. 0.]\n",
            " [0. 0. 0. 0. 0. 0. 0. 0. 1. 0.]\n",
            " [0. 1. 0. 0. 0. 0. 0. 0. 0. 0.]\n",
            " [0. 0. 0. 0. 0. 0. 0. 0. 0. 1.]\n",
            " [0. 0. 0. 0. 0. 0. 0. 1. 0. 0.]\n",
            " [0. 0. 0. 1. 0. 0. 0. 0. 0. 0.]\n",
            " [0. 0. 1. 0. 0. 0. 0. 0. 0. 0.]]\n",
            "Epoch 18: Ran for 2 steps, total distance 3.0364698882835346\n",
            "[[0. 0. 0. 0. 1. 0. 0. 0. 0. 0.]\n",
            " [0. 0. 0. 0. 0. 0. 1. 0. 0. 0.]\n",
            " [1. 0. 0. 0. 0. 0. 0. 0. 0. 0.]\n",
            " [0. 0. 0. 0. 0. 0. 0. 1. 0. 0.]\n",
            " [0. 0. 1. 0. 0. 0. 0. 0. 0. 0.]\n",
            " [0. 0. 0. 1. 0. 0. 0. 0. 0. 0.]\n",
            " [0. 0. 0. 0. 0. 0. 0. 0. 0. 1.]\n",
            " [0. 0. 0. 0. 0. 0. 0. 0. 1. 0.]\n",
            " [0. 1. 0. 0. 0. 0. 0. 0. 0. 0.]\n",
            " [0. 0. 0. 0. 0. 1. 0. 0. 0. 0.]]\n",
            "Epoch 19: Ran for 2 steps, total distance 3.353334455793269\n",
            "2.4341637430863297\n",
            "[[0. 0. 0. 0. 0. 0. 0. 0. 0. 1.]\n",
            " [0. 0. 0. 1. 0. 0. 0. 0. 0. 0.]\n",
            " [0. 0. 0. 0. 0. 0. 0. 1. 0. 0.]\n",
            " [0. 0. 1. 0. 0. 0. 0. 0. 0. 0.]\n",
            " [0. 0. 0. 0. 0. 1. 0. 0. 0. 0.]\n",
            " [0. 1. 0. 0. 0. 0. 0. 0. 0. 0.]\n",
            " [0. 0. 0. 0. 0. 0. 1. 0. 0. 0.]\n",
            " [0. 0. 0. 0. 1. 0. 0. 0. 0. 0.]\n",
            " [0. 0. 0. 0. 0. 0. 0. 0. 1. 0.]\n",
            " [1. 0. 0. 0. 0. 0. 0. 0. 0. 0.]]\n"
          ]
        }
      ]
    },
    {
      "cell_type": "code",
      "source": [
        "# takes in a Hopfield network state v and returns a string representation of the optimal route for the Traveling Salesman Problem (TSP) found by the network.\n",
        "# The function does this by iterating over each column of the state matrix and appending the index of the row with the highest activation to a string,\n",
        "# separated by arrows ->. Finally, the first index is appended to the end to create a cycle.\n",
        "#search for 1 column wise in  the best path matrix\n",
        "def get_route(v):\n",
        "    route = \"\"\n",
        "    for j in range(v.shape[1]):\n",
        "        route += str(np.argmax(v[:, j])) + ' -> '\n",
        "    return (route + str(np.argmax(v[:, 0])))\n",
        "#For each column, it finds the row with the highest value (which will be 1 in the case of the Hopfield network), using the np.argmax() function.\n",
        "#after the loop has finished, it appends the index of the first city to the route string to complete the tour.\n",
        "\n",
        "# For example, if v is a 5x5 matrix representing the optimal state of the Hopfield network for the TSP,\n",
        "# get_route(v) might return the string \"3 -> 1 -> 0 -> 4 -> 2 -> 3\", indicating that the optimal route starts at node 3,\n",
        "# then goes to node 1, node 0, and so on, before returning to node 3 to complete the cycle.\n",
        "print(get_route(best_path))"
      ],
      "metadata": {
        "colab": {
          "base_uri": "https://localhost:8080/"
        },
        "id": "qK4wlQMVtm3C",
        "outputId": "aa362dad-255d-492e-ed0d-8acebc13be3c"
      },
      "execution_count": null,
      "outputs": [
        {
          "output_type": "stream",
          "name": "stdout",
          "text": [
            "9 -> 5 -> 3 -> 1 -> 7 -> 4 -> 6 -> 2 -> 8 -> 0 -> 9\n"
          ]
        }
      ]
    },
    {
      "cell_type": "code",
      "source": [
        "def get_route_indices(v):\n",
        "    indices = []\n",
        "    for j in range(v.shape[1]):\n",
        "        indices.append(np.argmax(v[:, j]))\n",
        "    indices.append(np.argmax(v[:, 0]))\n",
        "    return indices\n",
        "\n",
        "indices = get_route_indices(best_path)\n",
        "print(indices)"
      ],
      "metadata": {
        "colab": {
          "base_uri": "https://localhost:8080/"
        },
        "id": "drFxnudmto_2",
        "outputId": "67c76de0-feb0-4dd3-fdb2-80a2c453a978"
      },
      "execution_count": null,
      "outputs": [
        {
          "output_type": "stream",
          "name": "stdout",
          "text": [
            "[9, 5, 3, 1, 7, 4, 6, 2, 8, 0, 9]\n"
          ]
        }
      ]
    },
    {
      "cell_type": "code",
      "source": [
        "# indices = get_route_indices(best_path)\n",
        "for i in indices[1:]:\n",
        "    plt.plot([city_x[i], city_x[i-1]], [city_y[i], city_y[i-1]], '-')\n",
        "plt.show()"
      ],
      "metadata": {
        "colab": {
          "base_uri": "https://localhost:8080/",
          "height": 430
        },
        "id": "XptgCheDzYzc",
        "outputId": "7766025a-beca-4e40-e43a-134431699b65"
      },
      "execution_count": null,
      "outputs": [
        {
          "output_type": "display_data",
          "data": {
            "text/plain": [
              "<Figure size 640x480 with 1 Axes>"
            ],
            "image/png": "[encoded data removed]"
          },
          "metadata": {}
        }
      ]
    },
    {
      "cell_type": "code",
      "source": [
        "num_cities = 10\n",
        "weights_needed = num_cities ** 2\n",
        "print(f\"Weights needed for a 10-city TSP using a Hopfield network: {weights_needed}\")"
      ],
      "metadata": {
        "colab": {
          "base_uri": "https://localhost:8080/"
        },
        "id": "kmhUj5caowRT",
        "outputId": "1b349ba8-c3e0-4d6c-d820-170198d2eb24"
      },
      "execution_count": null,
      "outputs": [
        {
          "output_type": "stream",
          "name": "stdout",
          "text": [
            "Weights needed for a 10-city TSP using a Hopfield network: 100\n"
          ]
        }
      ]
    }
  ]
}